{
 "cells": [
  {
   "cell_type": "markdown",
   "id": "fcc53e17-8e0d-4a07-9405-b91cf6df68fb",
   "metadata": {},
   "source": [
    "## Credit card fraud detection (+resampling via imblearn)"
   ]
  },
  {
   "cell_type": "markdown",
   "id": "3e586e51-0ff6-42ea-84b6-bf2933d15fa3",
   "metadata": {},
   "source": [
    "### Data preprocessing"
   ]
  },
  {
   "cell_type": "code",
   "execution_count": 26,
   "id": "dd9af05d-db0d-4739-bce3-227ee2363764",
   "metadata": {},
   "outputs": [
    {
     "data": {
      "text/html": [
       "<div>\n",
       "<style scoped>\n",
       "    .dataframe tbody tr th:only-of-type {\n",
       "        vertical-align: middle;\n",
       "    }\n",
       "\n",
       "    .dataframe tbody tr th {\n",
       "        vertical-align: top;\n",
       "    }\n",
       "\n",
       "    .dataframe thead th {\n",
       "        text-align: right;\n",
       "    }\n",
       "</style>\n",
       "<table border=\"1\" class=\"dataframe\">\n",
       "  <thead>\n",
       "    <tr style=\"text-align: right;\">\n",
       "      <th></th>\n",
       "      <th>Time</th>\n",
       "      <th>V1</th>\n",
       "      <th>V2</th>\n",
       "      <th>V3</th>\n",
       "      <th>V4</th>\n",
       "      <th>V5</th>\n",
       "      <th>V6</th>\n",
       "      <th>V7</th>\n",
       "      <th>V8</th>\n",
       "      <th>V9</th>\n",
       "      <th>...</th>\n",
       "      <th>V21</th>\n",
       "      <th>V22</th>\n",
       "      <th>V23</th>\n",
       "      <th>V24</th>\n",
       "      <th>V25</th>\n",
       "      <th>V26</th>\n",
       "      <th>V27</th>\n",
       "      <th>V28</th>\n",
       "      <th>Amount</th>\n",
       "      <th>Class</th>\n",
       "    </tr>\n",
       "  </thead>\n",
       "  <tbody>\n",
       "    <tr>\n",
       "      <th>0</th>\n",
       "      <td>0.0</td>\n",
       "      <td>-1.359807</td>\n",
       "      <td>-0.072781</td>\n",
       "      <td>2.536347</td>\n",
       "      <td>1.378155</td>\n",
       "      <td>-0.338321</td>\n",
       "      <td>0.462388</td>\n",
       "      <td>0.239599</td>\n",
       "      <td>0.098698</td>\n",
       "      <td>0.363787</td>\n",
       "      <td>...</td>\n",
       "      <td>-0.018307</td>\n",
       "      <td>0.277838</td>\n",
       "      <td>-0.110474</td>\n",
       "      <td>0.066928</td>\n",
       "      <td>0.128539</td>\n",
       "      <td>-0.189115</td>\n",
       "      <td>0.133558</td>\n",
       "      <td>-0.021053</td>\n",
       "      <td>149.62</td>\n",
       "      <td>0</td>\n",
       "    </tr>\n",
       "    <tr>\n",
       "      <th>1</th>\n",
       "      <td>0.0</td>\n",
       "      <td>1.191857</td>\n",
       "      <td>0.266151</td>\n",
       "      <td>0.166480</td>\n",
       "      <td>0.448154</td>\n",
       "      <td>0.060018</td>\n",
       "      <td>-0.082361</td>\n",
       "      <td>-0.078803</td>\n",
       "      <td>0.085102</td>\n",
       "      <td>-0.255425</td>\n",
       "      <td>...</td>\n",
       "      <td>-0.225775</td>\n",
       "      <td>-0.638672</td>\n",
       "      <td>0.101288</td>\n",
       "      <td>-0.339846</td>\n",
       "      <td>0.167170</td>\n",
       "      <td>0.125895</td>\n",
       "      <td>-0.008983</td>\n",
       "      <td>0.014724</td>\n",
       "      <td>2.69</td>\n",
       "      <td>0</td>\n",
       "    </tr>\n",
       "    <tr>\n",
       "      <th>2</th>\n",
       "      <td>1.0</td>\n",
       "      <td>-1.358354</td>\n",
       "      <td>-1.340163</td>\n",
       "      <td>1.773209</td>\n",
       "      <td>0.379780</td>\n",
       "      <td>-0.503198</td>\n",
       "      <td>1.800499</td>\n",
       "      <td>0.791461</td>\n",
       "      <td>0.247676</td>\n",
       "      <td>-1.514654</td>\n",
       "      <td>...</td>\n",
       "      <td>0.247998</td>\n",
       "      <td>0.771679</td>\n",
       "      <td>0.909412</td>\n",
       "      <td>-0.689281</td>\n",
       "      <td>-0.327642</td>\n",
       "      <td>-0.139097</td>\n",
       "      <td>-0.055353</td>\n",
       "      <td>-0.059752</td>\n",
       "      <td>378.66</td>\n",
       "      <td>0</td>\n",
       "    </tr>\n",
       "  </tbody>\n",
       "</table>\n",
       "<p>3 rows × 31 columns</p>\n",
       "</div>"
      ],
      "text/plain": [
       "   Time        V1        V2        V3        V4        V5        V6        V7  \\\n",
       "0   0.0 -1.359807 -0.072781  2.536347  1.378155 -0.338321  0.462388  0.239599   \n",
       "1   0.0  1.191857  0.266151  0.166480  0.448154  0.060018 -0.082361 -0.078803   \n",
       "2   1.0 -1.358354 -1.340163  1.773209  0.379780 -0.503198  1.800499  0.791461   \n",
       "\n",
       "         V8        V9  ...       V21       V22       V23       V24       V25  \\\n",
       "0  0.098698  0.363787  ... -0.018307  0.277838 -0.110474  0.066928  0.128539   \n",
       "1  0.085102 -0.255425  ... -0.225775 -0.638672  0.101288 -0.339846  0.167170   \n",
       "2  0.247676 -1.514654  ...  0.247998  0.771679  0.909412 -0.689281 -0.327642   \n",
       "\n",
       "        V26       V27       V28  Amount  Class  \n",
       "0 -0.189115  0.133558 -0.021053  149.62      0  \n",
       "1  0.125895 -0.008983  0.014724    2.69      0  \n",
       "2 -0.139097 -0.055353 -0.059752  378.66      0  \n",
       "\n",
       "[3 rows x 31 columns]"
      ]
     },
     "execution_count": 26,
     "metadata": {},
     "output_type": "execute_result"
    }
   ],
   "source": [
    "import pandas as pd\n",
    "import matplotlib.pyplot as plt\n",
    "\n",
    "df = pd.read_csv('creditcard.csv')\n",
    "df.head(3)"
   ]
  },
  {
   "cell_type": "code",
   "execution_count": 27,
   "id": "b1eb6ce5-0b0a-4eca-b798-08472705f588",
   "metadata": {},
   "outputs": [
    {
     "data": {
      "text/plain": [
       "False"
      ]
     },
     "execution_count": 27,
     "metadata": {},
     "output_type": "execute_result"
    }
   ],
   "source": [
    "df.isnull().values.any()"
   ]
  },
  {
   "cell_type": "code",
   "execution_count": 28,
   "id": "7db470fe-2f01-4394-b9fc-b990a29b4bde",
   "metadata": {},
   "outputs": [
    {
     "data": {
      "text/plain": [
       "count    284807.000000\n",
       "mean         88.349619\n",
       "std         250.120109\n",
       "min           0.000000\n",
       "25%           5.600000\n",
       "50%          22.000000\n",
       "75%          77.165000\n",
       "max       25691.160000\n",
       "Name: Amount, dtype: float64"
      ]
     },
     "execution_count": 28,
     "metadata": {},
     "output_type": "execute_result"
    }
   ],
   "source": [
    "df['Amount'].describe()"
   ]
  },
  {
   "cell_type": "code",
   "execution_count": 29,
   "id": "724a7f1f-9e2a-4893-95bb-e10dc3bc2313",
   "metadata": {},
   "outputs": [
    {
     "name": "stdout",
     "output_type": "stream",
     "text": [
      "Number of Genuine transactions:  284315\n",
      "Number of Fraud transactions:  492\n",
      "Percentage of Fraud transactions: 0.1727\n"
     ]
    }
   ],
   "source": [
    "non_fraud = len(df[df.Class == 0])\n",
    "fraud = len(df[df.Class == 1])\n",
    "\n",
    "print('Number of Genuine transactions: ', non_fraud)\n",
    "print('Number of Fraud transactions: ', fraud)\n",
    "print('Percentage of Fraud transactions: {:.4f}'.format((fraud / (fraud + non_fraud)) * 100))"
   ]
  },
  {
   "cell_type": "code",
   "execution_count": 30,
   "id": "edb94d15-04b5-4f8b-bc17-32ace5b6ca45",
   "metadata": {},
   "outputs": [
    {
     "data": {
      "image/png": "[encoded data removed]",
      "text/plain": [
       "<Figure size 432x288 with 1 Axes>"
      ]
     },
     "metadata": {
      "needs_background": "light"
     },
     "output_type": "display_data"
    }
   ],
   "source": [
    "labels = ['Genuine', 'Fraud']\n",
    "count_classes = df.value_counts(df['Class'], sort= True)\n",
    "count_classes.plot(kind = 'bar', rot = 0)\n",
    "plt.title('Visualization of Labels')\n",
    "plt.ylabel('Count')\n",
    "plt.xticks(range(2), labels)\n",
    "plt.show()"
   ]
  },
  {
   "cell_type": "code",
   "execution_count": 31,
   "id": "f99789dc-9072-4d97-acbc-4dee62e6ce7f",
   "metadata": {},
   "outputs": [],
   "source": [
    "import numpy as np\n",
    "from sklearn.preprocessing import StandardScaler\n",
    "\n",
    "scaler = StandardScaler()\n",
    "df['NormalizedAmount'] = scaler.fit_transform(df['Amount'].values.reshape(-1, 1))\n",
    "df.drop(['Amount', 'Time'], inplace= True, axis= 1)\n",
    "target = df['Class']\n",
    "data = df.drop(['Class'], axis= 1)"
   ]
  },
  {
   "cell_type": "code",
   "execution_count": 32,
   "id": "b8128500-18c6-4e4c-9fe1-f674c3aa2247",
   "metadata": {},
   "outputs": [
    {
     "name": "stdout",
     "output_type": "stream",
     "text": [
      "Shape of data_train:  (199364, 29)\n",
      "Shape of data_valid:  (85443, 29)\n"
     ]
    }
   ],
   "source": [
    "from sklearn.model_selection import train_test_split\n",
    "\n",
    "data_train, data_valid, target_train, target_valid = train_test_split(data, target, test_size= 0.3, random_state=0)\n",
    "\n",
    "print('Shape of data_train: ', data_train.shape)\n",
    "print('Shape of data_valid: ', data_valid.shape)"
   ]
  },
  {
   "cell_type": "markdown",
   "id": "1214f29d-263b-4175-8632-67183c7aa053",
   "metadata": {},
   "source": [
    "### Modeling"
   ]
  },
  {
   "cell_type": "code",
   "execution_count": 33,
   "id": "a82f01ba-ffcc-4e3c-899c-43435ef69ee4",
   "metadata": {},
   "outputs": [],
   "source": [
    "from sklearn.ensemble import RandomForestClassifier\n",
    "from sklearn.tree import DecisionTreeClassifier\n",
    "\n",
    "\n",
    "dt_base = DecisionTreeClassifier()\n",
    "rfc_base = RandomForestClassifier(n_estimators=100)"
   ]
  },
  {
   "cell_type": "code",
   "execution_count": 34,
   "id": "a347463c-9b1f-4f56-af96-f630eebdb315",
   "metadata": {},
   "outputs": [
    {
     "name": "stdout",
     "output_type": "stream",
     "text": [
      "Decision Tree Score:  0.999204147794436\n",
      "Random Forest Score:  0.9994616293903538\n"
     ]
    }
   ],
   "source": [
    "dt_model = dt_base.fit(data_train, target_train)\n",
    "dt_pred = dt_model.predict(data_valid)\n",
    "dt_score = dt_model.score(data_valid, target_valid)\n",
    "\n",
    "rfc_model = rfc_base.fit(data_train, target_train)\n",
    "rfc_pred = rfc_model.predict(data_valid)\n",
    "rfc_score = rfc_model.score(data_valid, target_valid)\n",
    "\n",
    "print('Decision Tree Score: ', dt_score)\n",
    "print('Random Forest Score: ', rfc_score)"
   ]
  },
  {
   "cell_type": "markdown",
   "id": "d86be767-332f-48fa-8b21-34a870ed87a3",
   "metadata": {},
   "source": [
    "Metrics output function:"
   ]
  },
  {
   "cell_type": "code",
   "execution_count": 35,
   "id": "75bce022-2913-4be7-95d8-00e4750fbcf1",
   "metadata": {},
   "outputs": [],
   "source": [
    "from sklearn.metrics import accuracy_score, precision_score, confusion_matrix, recall_score, f1_score\n",
    "from sklearn.metrics import confusion_matrix, ConfusionMatrixDisplay\n",
    "\n",
    "def metrics(actuals, predictions):\n",
    "    print('Accuracy: {:.5f}'.format(accuracy_score(actuals, predictions)))\n",
    "    print('Precision: {:.5f}'.format(precision_score(actuals, predictions)))\n",
    "    print('Recall: {:.5f}'.format(recall_score(actuals, predictions)))\n",
    "    print('F1-score: {:.5f}'.format(f1_score(actuals, predictions)))"
   ]
  },
  {
   "cell_type": "code",
   "execution_count": 36,
   "id": "401d8543-1dc3-4e5d-a594-e855c0b54a7a",
   "metadata": {},
   "outputs": [
    {
     "name": "stdout",
     "output_type": "stream",
     "text": [
      "Confusion Matrix - Decision Tree\n",
      "[[85265    31]\n",
      " [   37   110]] \n",
      "\n"
     ]
    },
    {
     "data": {
      "image/png": "[encoded data removed]",
      "text/plain": [
       "<Figure size 432x288 with 2 Axes>"
      ]
     },
     "metadata": {
      "needs_background": "light"
     },
     "output_type": "display_data"
    }
   ],
   "source": [
    "dt_cm = confusion_matrix(target_valid, dt_pred.round())\n",
    "print('Confusion Matrix - Decision Tree')\n",
    "print(dt_cm, '\\n')\n",
    "\n",
    "cm_disp = ConfusionMatrixDisplay(confusion_matrix=dt_cm)\n",
    "cm_disp.plot();"
   ]
  },
  {
   "cell_type": "code",
   "execution_count": 37,
   "id": "852b458d-0ecb-44af-b07c-f8e424d125e9",
   "metadata": {},
   "outputs": [
    {
     "name": "stdout",
     "output_type": "stream",
     "text": [
      "Evaluation of Decision Tree model \n",
      "\n",
      "Accuracy: 0.99920\n",
      "Precision: 0.78014\n",
      "Recall: 0.74830\n",
      "F1-score: 0.76389\n"
     ]
    }
   ],
   "source": [
    "print('Evaluation of Decision Tree model \\n')\n",
    "metrics(target_valid, dt_pred.round())"
   ]
  },
  {
   "cell_type": "code",
   "execution_count": 38,
   "id": "72b23e42-1915-4057-895c-01a15ce82516",
   "metadata": {},
   "outputs": [
    {
     "name": "stdout",
     "output_type": "stream",
     "text": [
      "Confusion Matrix - Random Forest\n",
      "[[85288     8]\n",
      " [   38   109]] \n",
      "\n"
     ]
    },
    {
     "data": {
      "image/png": "[encoded data removed]",
      "text/plain": [
       "<Figure size 432x288 with 2 Axes>"
      ]
     },
     "metadata": {
      "needs_background": "light"
     },
     "output_type": "display_data"
    }
   ],
   "source": [
    "rfc_cm = confusion_matrix(target_valid, rfc_pred.round())\n",
    "print('Confusion Matrix - Random Forest')\n",
    "print(rfc_cm, '\\n')\n",
    "\n",
    "cm_disp = ConfusionMatrixDisplay(confusion_matrix=rfc_cm)\n",
    "cm_disp.plot();"
   ]
  },
  {
   "cell_type": "code",
   "execution_count": 39,
   "id": "d75b77a4-c339-4de0-a51e-a9579c9d87a6",
   "metadata": {},
   "outputs": [
    {
     "name": "stdout",
     "output_type": "stream",
     "text": [
      "Evaluation of Random Forest model \n",
      "\n",
      "Accuracy: 0.99946\n",
      "Precision: 0.93162\n",
      "Recall: 0.74150\n",
      "F1-score: 0.82576\n"
     ]
    }
   ],
   "source": [
    "print('Evaluation of Random Forest model \\n')\n",
    "metrics(target_valid, rfc_pred.round())"
   ]
  },
  {
   "cell_type": "markdown",
   "id": "3f3a5125-6a4b-4cba-a08c-e8681ef9d38a",
   "metadata": {},
   "source": [
    "Since dataset is imbalansed, it is needed to do something about it"
   ]
  },
  {
   "cell_type": "markdown",
   "id": "9c249040-78b2-4aa7-b189-b7d78aa63470",
   "metadata": {},
   "source": [
    "## Dealing with imbalance"
   ]
  },
  {
   "cell_type": "code",
   "execution_count": 40,
   "id": "6aab18a4-1182-49ba-aa15-65ca2726d09f",
   "metadata": {},
   "outputs": [
    {
     "name": "stdout",
     "output_type": "stream",
     "text": [
      "Resampled shape of X:  (568630, 29)\n",
      "Resampled shape of Y:  (568630,)\n",
      "Counter({0: 284315, 1: 284315})\n"
     ]
    }
   ],
   "source": [
    "from collections import Counter\n",
    "from imblearn.over_sampling import SMOTE\n",
    "\n",
    "X_resampled, Y_resampled = SMOTE().fit_resample(data, target)\n",
    "print('Resampled shape of X: ', X_resampled.shape)\n",
    "print('Resampled shape of Y: ', Y_resampled.shape)\n",
    "value_counts = Counter(Y_resampled)\n",
    "\n",
    "print(value_counts)\n",
    "train_X, test_X, train_Y, test_Y = train_test_split(X_resampled, Y_resampled, test_size=0.3, random_state=0)"
   ]
  },
  {
   "cell_type": "code",
   "execution_count": 41,
   "id": "2800527a-f087-453a-ab39-604c1b50f224",
   "metadata": {},
   "outputs": [
    {
     "name": "stdout",
     "output_type": "stream",
     "text": [
      "Resampled data Random Forest Score:  0.9995201479348805\n"
     ]
    }
   ],
   "source": [
    "rfc_resampled_model = rfc_base.fit(data_train, target_train)\n",
    "rfc_pred_resampled = rfc_resampled_model.predict(data_valid)\n",
    "rfc_score_resampled = rfc_resampled_model.score(data_valid, target_valid)\n",
    "\n",
    "print('Resampled data Random Forest Score: ', rfc_score_resampled)"
   ]
  },
  {
   "cell_type": "code",
   "execution_count": 42,
   "id": "b5af971b-54a5-4c64-b21d-0b18ce391f6f",
   "metadata": {},
   "outputs": [
    {
     "name": "stdout",
     "output_type": "stream",
     "text": [
      "Confusion Matrix - Random Forest after Resampling\n",
      "[[85289     7]\n",
      " [   34   113]] \n",
      "\n"
     ]
    },
    {
     "data": {
      "image/png": "[encoded data removed]",
      "text/plain": [
       "<Figure size 432x288 with 2 Axes>"
      ]
     },
     "metadata": {
      "needs_background": "light"
     },
     "output_type": "display_data"
    }
   ],
   "source": [
    "rfc_cm_resampled = confusion_matrix(target_valid, rfc_pred_resampled.round())\n",
    "print('Confusion Matrix - Random Forest after Resampling')\n",
    "print(rfc_cm_resampled, '\\n')\n",
    "\n",
    "cm_disp = ConfusionMatrixDisplay(confusion_matrix=rfc_cm_resampled)\n",
    "cm_disp.plot();"
   ]
  },
  {
   "cell_type": "code",
   "execution_count": 43,
   "id": "f9a35a5d-7eb3-4b17-a2d6-a8868c21dd0f",
   "metadata": {},
   "outputs": [
    {
     "name": "stdout",
     "output_type": "stream",
     "text": [
      "Evaluation of Random Forest Model after Resampling\n",
      "\n",
      "Accuracy: 0.99952\n",
      "Precision: 0.94167\n",
      "Recall: 0.76871\n",
      "F1-score: 0.84644\n"
     ]
    }
   ],
   "source": [
    "print('Evaluation of Random Forest Model after Resampling')\n",
    "print()\n",
    "metrics(target_valid, rfc_pred_resampled.round())"
   ]
  },
  {
   "cell_type": "markdown",
   "id": "3aae01cf-f64a-4846-9a48-c21a6193b6e4",
   "metadata": {},
   "source": [
    "Скор немного поднялся (ожидалось больше)"
   ]
  },
  {
   "cell_type": "code",
   "execution_count": null,
   "id": "83a8ab4e-d3c7-45b1-aaa8-e71bea8fad1f",
   "metadata": {},
   "outputs": [],
   "source": []
  }
 ],
 "metadata": {
  "kernelspec": {
   "display_name": "Python 3 (ipykernel)",
   "language": "python",
   "name": "python3"
  },
  "language_info": {
   "codemirror_mode": {
    "name": "ipython",
    "version": 3
   },
   "file_extension": ".py",
   "mimetype": "text/x-python",
   "name": "python",
   "nbconvert_exporter": "python",
   "pygments_lexer": "ipython3",
   "version": "3.9.7"
  }
 },
 "nbformat": 4,
 "nbformat_minor": 5
}
