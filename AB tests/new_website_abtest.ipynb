{
 "cells": [
  {
   "cell_type": "code",
   "execution_count": 2,
   "id": "80239f22-ffee-4386-9405-0f678386e02a",
   "metadata": {},
   "outputs": [],
   "source": [
    "import numpy as np\n",
    "import pandas as pd\n",
    "import scipy.stats as stats\n",
    "import statsmodels.stats.api as sms\n",
    "import matplotlib as mpl\n",
    "import matplotlib.pyplot as plt\n",
    "import seaborn as sns\n",
    "from math import ceil\n",
    "\n",
    "%matplotlib inline"
   ]
  },
  {
   "cell_type": "markdown",
   "id": "4d99de50-1f8e-438f-87f7-aef47d9abc3d",
   "metadata": {},
   "source": [
    "## Experiment design"
   ]
  },
  {
   "cell_type": "markdown",
   "id": "b1089e9f-eb0c-4f22-9eb4-321da6dad5bc",
   "metadata": {},
   "source": [
    "H0: p = p0 - null hypothesis\n",
    "\n",
    "H1: p != p0 - alternative hypothesis\n",
    "\n",
    "where p and p0 stand for conversion rate of new and old versions of website.\n",
    "\n",
    "We'll also set a confidence level of 95%:\n",
    "\n",
    "a = 0.05\n",
    "\n",
    "\n",
    "Since our a = 0.05 (indicating 5% probability), our confidence\n",
    "(1 - a) is 95%"
   ]
  },
  {
   "cell_type": "markdown",
   "id": "39f84dc0-a6f5-47da-b125-a5496d59447b",
   "metadata": {},
   "source": [
    "## Lazy sample size selection:"
   ]
  },
  {
   "cell_type": "code",
   "execution_count": 18,
   "id": "e6dd785d-92e3-4d86-bc8c-de12e5ff3b71",
   "metadata": {},
   "outputs": [
    {
     "data": {
      "text/plain": [
       "3395"
      ]
     },
     "execution_count": 18,
     "metadata": {},
     "output_type": "execute_result"
    }
   ],
   "source": [
    "effect_size = sms.proportion_effectsize(0.25, 0.28)         # expecting increase in conversion by 3% (random values)\n",
    "\n",
    "req_n = sms.NormalIndPower().solve_power(\n",
    "    effect_size,\n",
    "    power=0.8,                                              # 0.8 is a default\n",
    "    alpha=0.05,                                             # 0.05 is a default\n",
    "    ratio=1\n",
    "    )\n",
    "\n",
    "req_n = ceil(req_n)\n",
    "req_n"
   ]
  },
  {
   "cell_type": "markdown",
   "id": "a217d318-9072-49f0-ad61-7474bad53d50",
   "metadata": {},
   "source": [
    "## Data preparation"
   ]
  },
  {
   "cell_type": "code",
   "execution_count": 19,
   "id": "99d787c8-29fa-41db-9713-5be192fc1399",
   "metadata": {},
   "outputs": [
    {
     "data": {
      "text/html": [
       "<div>\n",
       "<style scoped>\n",
       "    .dataframe tbody tr th:only-of-type {\n",
       "        vertical-align: middle;\n",
       "    }\n",
       "\n",
       "    .dataframe tbody tr th {\n",
       "        vertical-align: top;\n",
       "    }\n",
       "\n",
       "    .dataframe thead th {\n",
       "        text-align: right;\n",
       "    }\n",
       "</style>\n",
       "<table border=\"1\" class=\"dataframe\">\n",
       "  <thead>\n",
       "    <tr style=\"text-align: right;\">\n",
       "      <th></th>\n",
       "      <th>user_id</th>\n",
       "      <th>timestamp</th>\n",
       "      <th>group</th>\n",
       "      <th>landing_page</th>\n",
       "      <th>converted</th>\n",
       "    </tr>\n",
       "  </thead>\n",
       "  <tbody>\n",
       "    <tr>\n",
       "      <th>0</th>\n",
       "      <td>851104</td>\n",
       "      <td>2017-01-21 22:11:48.556739</td>\n",
       "      <td>control</td>\n",
       "      <td>old_page</td>\n",
       "      <td>0</td>\n",
       "    </tr>\n",
       "    <tr>\n",
       "      <th>1</th>\n",
       "      <td>804228</td>\n",
       "      <td>2017-01-12 08:01:45.159739</td>\n",
       "      <td>control</td>\n",
       "      <td>old_page</td>\n",
       "      <td>0</td>\n",
       "    </tr>\n",
       "    <tr>\n",
       "      <th>2</th>\n",
       "      <td>661590</td>\n",
       "      <td>2017-01-11 16:55:06.154213</td>\n",
       "      <td>treatment</td>\n",
       "      <td>new_page</td>\n",
       "      <td>0</td>\n",
       "    </tr>\n",
       "  </tbody>\n",
       "</table>\n",
       "</div>"
      ],
      "text/plain": [
       "   user_id                   timestamp      group landing_page  converted\n",
       "0   851104  2017-01-21 22:11:48.556739    control     old_page          0\n",
       "1   804228  2017-01-12 08:01:45.159739    control     old_page          0\n",
       "2   661590  2017-01-11 16:55:06.154213  treatment     new_page          0"
      ]
     },
     "execution_count": 19,
     "metadata": {},
     "output_type": "execute_result"
    }
   ],
   "source": [
    "df = pd.read_csv('ab_data.csv')\n",
    "df.head(3)"
   ]
  },
  {
   "cell_type": "code",
   "execution_count": 20,
   "id": "525f543a-5c47-483d-9fbb-1265a4b81fbe",
   "metadata": {},
   "outputs": [
    {
     "name": "stdout",
     "output_type": "stream",
     "text": [
      "<class 'pandas.core.frame.DataFrame'>\n",
      "RangeIndex: 294478 entries, 0 to 294477\n",
      "Data columns (total 5 columns):\n",
      " #   Column        Non-Null Count   Dtype \n",
      "---  ------        --------------   ----- \n",
      " 0   user_id       294478 non-null  int64 \n",
      " 1   timestamp     294478 non-null  object\n",
      " 2   group         294478 non-null  object\n",
      " 3   landing_page  294478 non-null  object\n",
      " 4   converted     294478 non-null  int64 \n",
      "dtypes: int64(2), object(3)\n",
      "memory usage: 11.2+ MB\n"
     ]
    }
   ],
   "source": [
    "df.info()"
   ]
  },
  {
   "cell_type": "code",
   "execution_count": 22,
   "id": "f9ac28ae-f6e5-467c-8172-1e84ac473bd4",
   "metadata": {},
   "outputs": [
    {
     "data": {
      "text/html": [
       "<div>\n",
       "<style scoped>\n",
       "    .dataframe tbody tr th:only-of-type {\n",
       "        vertical-align: middle;\n",
       "    }\n",
       "\n",
       "    .dataframe tbody tr th {\n",
       "        vertical-align: top;\n",
       "    }\n",
       "\n",
       "    .dataframe thead th {\n",
       "        text-align: right;\n",
       "    }\n",
       "</style>\n",
       "<table border=\"1\" class=\"dataframe\">\n",
       "  <thead>\n",
       "    <tr style=\"text-align: right;\">\n",
       "      <th>landing_page</th>\n",
       "      <th>new_page</th>\n",
       "      <th>old_page</th>\n",
       "    </tr>\n",
       "    <tr>\n",
       "      <th>group</th>\n",
       "      <th></th>\n",
       "      <th></th>\n",
       "    </tr>\n",
       "  </thead>\n",
       "  <tbody>\n",
       "    <tr>\n",
       "      <th>control</th>\n",
       "      <td>1928</td>\n",
       "      <td>145274</td>\n",
       "    </tr>\n",
       "    <tr>\n",
       "      <th>treatment</th>\n",
       "      <td>145311</td>\n",
       "      <td>1965</td>\n",
       "    </tr>\n",
       "  </tbody>\n",
       "</table>\n",
       "</div>"
      ],
      "text/plain": [
       "landing_page  new_page  old_page\n",
       "group                           \n",
       "control           1928    145274\n",
       "treatment       145311      1965"
      ]
     },
     "execution_count": 22,
     "metadata": {},
     "output_type": "execute_result"
    }
   ],
   "source": [
    "pd.crosstab(df.group, df.landing_page)                       # control and treatment groups size matching "
   ]
  },
  {
   "cell_type": "code",
   "execution_count": 36,
   "id": "c62f40c3-3428-49f0-93f8-c50daea8171d",
   "metadata": {},
   "outputs": [
    {
     "name": "stdout",
     "output_type": "stream",
     "text": [
      "<class 'pandas.core.frame.DataFrame'>\n",
      "Int64Index: 286690 entries, 0 to 294477\n",
      "Data columns (total 5 columns):\n",
      " #   Column        Non-Null Count   Dtype \n",
      "---  ------        --------------   ----- \n",
      " 0   user_id       286690 non-null  int64 \n",
      " 1   timestamp     286690 non-null  object\n",
      " 2   group         286690 non-null  object\n",
      " 3   landing_page  286690 non-null  object\n",
      " 4   converted     286690 non-null  int64 \n",
      "dtypes: int64(2), object(3)\n",
      "memory usage: 13.1+ MB\n"
     ]
    }
   ],
   "source": [
    "ses_ctr = df['user_id'].value_counts()                      # dropping duplicates\n",
    "duplicates = ses_ctr[ses_ctr > 1].count()\n",
    "to_drop = ses_ctr[ses_ctr > 1].index\n",
    "df = df[~df['user_id'].isin(to_drop)]\n",
    "df.info()"
   ]
  },
  {
   "cell_type": "markdown",
   "id": "0c3cfe33-b915-41e3-b940-8223791aee99",
   "metadata": {},
   "source": [
    "### Sampling"
   ]
  },
  {
   "cell_type": "code",
   "execution_count": 47,
   "id": "0b756993-9867-4104-991d-09b5cd810d59",
   "metadata": {},
   "outputs": [
    {
     "data": {
      "text/html": [
       "<div>\n",
       "<style scoped>\n",
       "    .dataframe tbody tr th:only-of-type {\n",
       "        vertical-align: middle;\n",
       "    }\n",
       "\n",
       "    .dataframe tbody tr th {\n",
       "        vertical-align: top;\n",
       "    }\n",
       "\n",
       "    .dataframe thead th {\n",
       "        text-align: right;\n",
       "    }\n",
       "</style>\n",
       "<table border=\"1\" class=\"dataframe\">\n",
       "  <thead>\n",
       "    <tr style=\"text-align: right;\">\n",
       "      <th></th>\n",
       "      <th>user_id</th>\n",
       "      <th>timestamp</th>\n",
       "      <th>group</th>\n",
       "      <th>landing_page</th>\n",
       "      <th>converted</th>\n",
       "    </tr>\n",
       "  </thead>\n",
       "  <tbody>\n",
       "    <tr>\n",
       "      <th>0</th>\n",
       "      <td>740761</td>\n",
       "      <td>2017-01-19 23:06:22.166842</td>\n",
       "      <td>control</td>\n",
       "      <td>old_page</td>\n",
       "      <td>0</td>\n",
       "    </tr>\n",
       "    <tr>\n",
       "      <th>1</th>\n",
       "      <td>685906</td>\n",
       "      <td>2017-01-15 13:37:19.383548</td>\n",
       "      <td>control</td>\n",
       "      <td>old_page</td>\n",
       "      <td>0</td>\n",
       "    </tr>\n",
       "    <tr>\n",
       "      <th>2</th>\n",
       "      <td>803229</td>\n",
       "      <td>2017-01-02 14:46:36.522859</td>\n",
       "      <td>control</td>\n",
       "      <td>old_page</td>\n",
       "      <td>0</td>\n",
       "    </tr>\n",
       "    <tr>\n",
       "      <th>3</th>\n",
       "      <td>771051</td>\n",
       "      <td>2017-01-14 17:49:52.369447</td>\n",
       "      <td>control</td>\n",
       "      <td>old_page</td>\n",
       "      <td>0</td>\n",
       "    </tr>\n",
       "    <tr>\n",
       "      <th>4</th>\n",
       "      <td>726377</td>\n",
       "      <td>2017-01-18 11:18:54.592555</td>\n",
       "      <td>control</td>\n",
       "      <td>old_page</td>\n",
       "      <td>0</td>\n",
       "    </tr>\n",
       "    <tr>\n",
       "      <th>...</th>\n",
       "      <td>...</td>\n",
       "      <td>...</td>\n",
       "      <td>...</td>\n",
       "      <td>...</td>\n",
       "      <td>...</td>\n",
       "    </tr>\n",
       "    <tr>\n",
       "      <th>6785</th>\n",
       "      <td>865730</td>\n",
       "      <td>2017-01-04 12:14:43.378994</td>\n",
       "      <td>treatment</td>\n",
       "      <td>new_page</td>\n",
       "      <td>0</td>\n",
       "    </tr>\n",
       "    <tr>\n",
       "      <th>6786</th>\n",
       "      <td>705575</td>\n",
       "      <td>2017-01-10 09:24:55.224192</td>\n",
       "      <td>treatment</td>\n",
       "      <td>new_page</td>\n",
       "      <td>0</td>\n",
       "    </tr>\n",
       "    <tr>\n",
       "      <th>6787</th>\n",
       "      <td>836798</td>\n",
       "      <td>2017-01-14 12:30:59.136904</td>\n",
       "      <td>treatment</td>\n",
       "      <td>new_page</td>\n",
       "      <td>0</td>\n",
       "    </tr>\n",
       "    <tr>\n",
       "      <th>6788</th>\n",
       "      <td>867955</td>\n",
       "      <td>2017-01-14 02:39:05.015859</td>\n",
       "      <td>treatment</td>\n",
       "      <td>new_page</td>\n",
       "      <td>0</td>\n",
       "    </tr>\n",
       "    <tr>\n",
       "      <th>6789</th>\n",
       "      <td>651598</td>\n",
       "      <td>2017-01-11 08:34:10.058687</td>\n",
       "      <td>treatment</td>\n",
       "      <td>new_page</td>\n",
       "      <td>0</td>\n",
       "    </tr>\n",
       "  </tbody>\n",
       "</table>\n",
       "<p>6790 rows × 5 columns</p>\n",
       "</div>"
      ],
      "text/plain": [
       "      user_id                   timestamp      group landing_page  converted\n",
       "0      740761  2017-01-19 23:06:22.166842    control     old_page          0\n",
       "1      685906  2017-01-15 13:37:19.383548    control     old_page          0\n",
       "2      803229  2017-01-02 14:46:36.522859    control     old_page          0\n",
       "3      771051  2017-01-14 17:49:52.369447    control     old_page          0\n",
       "4      726377  2017-01-18 11:18:54.592555    control     old_page          0\n",
       "...       ...                         ...        ...          ...        ...\n",
       "6785   865730  2017-01-04 12:14:43.378994  treatment     new_page          0\n",
       "6786   705575  2017-01-10 09:24:55.224192  treatment     new_page          0\n",
       "6787   836798  2017-01-14 12:30:59.136904  treatment     new_page          0\n",
       "6788   867955  2017-01-14 02:39:05.015859  treatment     new_page          0\n",
       "6789   651598  2017-01-11 08:34:10.058687  treatment     new_page          0\n",
       "\n",
       "[6790 rows x 5 columns]"
      ]
     },
     "execution_count": 47,
     "metadata": {},
     "output_type": "execute_result"
    }
   ],
   "source": [
    "control_sample = df[df['group'] == 'control'].sample(n=req_n, random_state=0)\n",
    "treatment_sample = df[df['group'] == 'treatment'].sample(n=req_n, random_state=0)\n",
    "test_df = pd.concat([control_sample, treatment_sample])\n",
    "test_df.reset_index(drop=True, inplace=True)\n",
    "test_df"
   ]
  },
  {
   "cell_type": "code",
   "execution_count": 50,
   "id": "4d02c7b8-e7be-48d5-9b9b-397da8e06489",
   "metadata": {},
   "outputs": [
    {
     "data": {
      "text/plain": [
       "control      3395\n",
       "treatment    3395\n",
       "Name: group, dtype: int64"
      ]
     },
     "execution_count": 50,
     "metadata": {},
     "output_type": "execute_result"
    }
   ],
   "source": [
    "test_df['group'].value_counts()                              # check whether everything's ok"
   ]
  },
  {
   "cell_type": "markdown",
   "id": "f78dd479-7282-4ff9-942a-ad15d62d62c8",
   "metadata": {},
   "source": [
    "## Visualisation of the results"
   ]
  },
  {
   "cell_type": "code",
   "execution_count": 58,
   "id": "6ec46dad-8798-4b80-aa1f-ffa98d878f27",
   "metadata": {},
   "outputs": [
    {
     "data": {
      "text/html": [
       "<style type=\"text/css\">\n",
       "</style>\n",
       "<table id=\"T_42339\">\n",
       "  <thead>\n",
       "    <tr>\n",
       "      <th class=\"blank level0\" >&nbsp;</th>\n",
       "      <th id=\"T_42339_level0_col0\" class=\"col_heading level0 col0\" >conversion rate</th>\n",
       "      <th id=\"T_42339_level0_col1\" class=\"col_heading level0 col1\" >std deviation</th>\n",
       "      <th id=\"T_42339_level0_col2\" class=\"col_heading level0 col2\" >std error</th>\n",
       "    </tr>\n",
       "    <tr>\n",
       "      <th class=\"index_name level0\" >group</th>\n",
       "      <th class=\"blank col0\" >&nbsp;</th>\n",
       "      <th class=\"blank col1\" >&nbsp;</th>\n",
       "      <th class=\"blank col2\" >&nbsp;</th>\n",
       "    </tr>\n",
       "  </thead>\n",
       "  <tbody>\n",
       "    <tr>\n",
       "      <th id=\"T_42339_level0_row0\" class=\"row_heading level0 row0\" >control</th>\n",
       "      <td id=\"T_42339_row0_col0\" class=\"data row0 col0\" >0.110</td>\n",
       "      <td id=\"T_42339_row0_col1\" class=\"data row0 col1\" >0.312</td>\n",
       "      <td id=\"T_42339_row0_col2\" class=\"data row0 col2\" >0.005</td>\n",
       "    </tr>\n",
       "    <tr>\n",
       "      <th id=\"T_42339_level0_row1\" class=\"row_heading level0 row1\" >treatment</th>\n",
       "      <td id=\"T_42339_row1_col0\" class=\"data row1 col0\" >0.125</td>\n",
       "      <td id=\"T_42339_row1_col1\" class=\"data row1 col1\" >0.331</td>\n",
       "      <td id=\"T_42339_row1_col2\" class=\"data row1 col2\" >0.006</td>\n",
       "    </tr>\n",
       "  </tbody>\n",
       "</table>\n"
      ],
      "text/plain": [
       "<pandas.io.formats.style.Styler at 0x202e9d882e0>"
      ]
     },
     "execution_count": 58,
     "metadata": {},
     "output_type": "execute_result"
    }
   ],
   "source": [
    "conv_rates = test_df.groupby('group')['converted']\n",
    "\n",
    "std_p = lambda x: np.std(x)                                 # Standard deviation of the proportion\n",
    "sem_p = lambda x: stats.sem(x)                              # Standard error of the proportion (std / sqrt(n))\n",
    "\n",
    "conv_rates = conv_rates.agg([np.mean, std_p, sem_p])\n",
    "conv_rates.columns = ['conversion rate', 'std deviation', 'std error']\n",
    "\n",
    "conv_rates.style.format('{:.3f}')"
   ]
  },
  {
   "cell_type": "markdown",
   "id": "53e40b09-9416-4fcc-8c9f-6a0f72932dcf",
   "metadata": {},
   "source": [
    "Seems as though two website designs performed somewhat similarly, showing 1.5% conversion rate difference"
   ]
  },
  {
   "cell_type": "code",
   "execution_count": 62,
   "id": "29265871-4322-4810-af37-7bfe6ce98950",
   "metadata": {},
   "outputs": [
    {
     "data": {
      "text/plain": [
       "<AxesSubplot:xlabel='group', ylabel='converted'>"
      ]
     },
     "execution_count": 62,
     "metadata": {},
     "output_type": "execute_result"
    },
    {
     "data": {
      "image/png": "[encoded data removed]",
      "text/plain": [
       "<Figure size 720x720 with 1 Axes>"
      ]
     },
     "metadata": {
      "needs_background": "light"
     },
     "output_type": "display_data"
    }
   ],
   "source": [
    "plt.figure(figsize=(10,10))\n",
    "\n",
    "sns.barplot(x=test_df.group, y=test_df.converted, ci=False)"
   ]
  },
  {
   "cell_type": "markdown",
   "id": "c3589d57-de55-4990-9423-92aeacbc8553",
   "metadata": {},
   "source": [
    "Now we need to find out whether 1.5% conversion rate is good enough"
   ]
  },
  {
   "cell_type": "markdown",
   "id": "bfbc6c0d-5b10-4952-8019-56f77d154dbc",
   "metadata": {},
   "source": [
    "## Hypothesis test (z-test)"
   ]
  },
  {
   "cell_type": "code",
   "execution_count": 63,
   "id": "070e4ed4-b98e-41e6-bea3-892e8a505cbd",
   "metadata": {},
   "outputs": [],
   "source": [
    "from statsmodels.stats.proportion import proportions_ztest, proportion_confint"
   ]
  },
  {
   "cell_type": "code",
   "execution_count": 67,
   "id": "ad1a8c7d-7417-4cf1-bfbc-1fbc5d9dc056",
   "metadata": {},
   "outputs": [],
   "source": [
    "control_results = test_df[test_df['group'] == 'control']['converted']\n",
    "treatment_results = test_df[test_df['group'] == 'treatment']['converted']"
   ]
  },
  {
   "cell_type": "code",
   "execution_count": 79,
   "id": "aeac302d-43e7-4c7d-84db-c26bc5ca17df",
   "metadata": {},
   "outputs": [
    {
     "name": "stdout",
     "output_type": "stream",
     "text": [
      "z statistic: -2.03\n",
      "p-value: 0.042\n",
      "ci 95% for control group: [0.099, 0.120]\n",
      "ci 95% for treatment group: [0.114, 0.137]\n"
     ]
    }
   ],
   "source": [
    "n_con = control_results.count()\n",
    "n_treat = treatment_results.count()\n",
    "\n",
    "conversions = [control_results.sum(), treatment_results.sum()]\n",
    "nobs = [n_con, n_treat]\n",
    "\n",
    "z_stat, pval = proportions_ztest(conversions, nobs=nobs)\n",
    "(lower_con, lower_treat), (upper_con, upper_treat) = proportion_confint(conversions, nobs=nobs, alpha=0.05)\n",
    "\n",
    "print(f'z statistic: {z_stat:.2f}')\n",
    "print(f'p-value: {pval:.3f}')\n",
    "print(f'ci 95% for control group: [{lower_con:.3f}, {upper_con:.3f}]')\n",
    "print(f'ci 95% for treatment group: [{lower_treat:.3f}, {upper_treat:.3f}]')"
   ]
  },
  {
   "cell_type": "markdown",
   "id": "9e8aa7fe-9c6c-42bd-9480-eed5507229bf",
   "metadata": {},
   "source": [
    "Since the obtained p-value=0.042 is slightly below the initial a=0.05, we can reject the null hypothesis, which means that the new design did in fact perform better, but just a bit."
   ]
  },
  {
   "cell_type": "markdown",
   "id": "5b75b0c5-d267-4795-a35b-28c398129e41",
   "metadata": {},
   "source": [
    "## Let's get reassured by conducting Chi-Squared test:"
   ]
  },
  {
   "cell_type": "code",
   "execution_count": 105,
   "id": "ea4ae9d6-83e2-4412-a258-35ace5bc6a8e",
   "metadata": {},
   "outputs": [
    {
     "data": {
      "text/plain": [
       "array([[ 372, 3023],\n",
       "       [ 426, 2969]], dtype=int64)"
      ]
     },
     "execution_count": 105,
     "metadata": {},
     "output_type": "execute_result"
    }
   ],
   "source": [
    "T = np.array([[conversions[0], control_results.count() - conversions[0]], [conversions[1], treatment_results.count() - conversions[1]]])\n",
    "T"
   ]
  },
  {
   "cell_type": "code",
   "execution_count": 106,
   "id": "e3fddfdb-7594-4c48-a016-c214d181749f",
   "metadata": {},
   "outputs": [
    {
     "name": "stdout",
     "output_type": "stream",
     "text": [
      "0.04186177200482865\n"
     ]
    }
   ],
   "source": [
    "from scipy import stats\n",
    "\n",
    "print(stats.chi2_contingency(T, correction=False)[1])"
   ]
  },
  {
   "cell_type": "markdown",
   "id": "fe89b173-765f-4b19-804f-9a8e662f31ba",
   "metadata": {},
   "source": [
    "We've got the same p-value as in z-test, which means our conclusion was correct."
   ]
  },
  {
   "cell_type": "code",
   "execution_count": null,
   "id": "c64304ce-7c19-4019-8f71-87ea02b4e9f8",
   "metadata": {},
   "outputs": [],
   "source": []
  }
 ],
 "metadata": {
  "kernelspec": {
   "display_name": "Python 3 (ipykernel)",
   "language": "python",
   "name": "python3"
  },
  "language_info": {
   "codemirror_mode": {
    "name": "ipython",
    "version": 3
   },
   "file_extension": ".py",
   "mimetype": "text/x-python",
   "name": "python",
   "nbconvert_exporter": "python",
   "pygments_lexer": "ipython3",
   "version": "3.9.7"
  }
 },
 "nbformat": 4,
 "nbformat_minor": 5
}
